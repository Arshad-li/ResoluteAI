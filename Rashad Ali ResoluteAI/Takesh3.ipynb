{
 "cells": [
  {
   "cell_type": "code",
   "execution_count": 1,
   "id": "e76da345",
   "metadata": {},
   "outputs": [],
   "source": [
    "import os\n",
    "import numpy as np\n",
    "import pandas as pd\n",
    "import matplotlib.pyplot as plt\n",
    "%matplotlib inline\n",
    "import seaborn as sns\n",
    "import time\n",
    "import plotly.express as px\n",
    "import numpy as np\n",
    "import pandas as pd\n",
    "from sklearn.cluster import KMeans\n",
    "from sklearn.metrics import silhouette_samples, silhouette_score\n",
    "import matplotlib.pyplot as plt\n",
    "from sklearn.model_selection import train_test_split\n",
    "import matplotlib.pyplot as plt\n",
    "from sklearn.cluster import KMeans\n",
    "from sklearn.preprocessing import StandardScaler\n",
    "from yellowbrick.cluster import KElbowVisualizer\n",
    "from sklearn.linear_model import LogisticRegression"
   ]
  },
  {
   "cell_type": "code",
   "execution_count": 2,
   "id": "a143a62c",
   "metadata": {},
   "outputs": [],
   "source": [
    "df = pd.read_excel(\"rawdata.xlsx\")"
   ]
  },
  {
   "cell_type": "code",
   "execution_count": 3,
   "id": "e2cd0611",
   "metadata": {},
   "outputs": [
    {
     "data": {
      "text/html": [
       "<div>\n",
       "<style scoped>\n",
       "    .dataframe tbody tr th:only-of-type {\n",
       "        vertical-align: middle;\n",
       "    }\n",
       "\n",
       "    .dataframe tbody tr th {\n",
       "        vertical-align: top;\n",
       "    }\n",
       "\n",
       "    .dataframe thead th {\n",
       "        text-align: right;\n",
       "    }\n",
       "</style>\n",
       "<table border=\"1\" class=\"dataframe\">\n",
       "  <thead>\n",
       "    <tr style=\"text-align: right;\">\n",
       "      <th></th>\n",
       "      <th>date</th>\n",
       "      <th>time</th>\n",
       "      <th>sensor</th>\n",
       "      <th>location</th>\n",
       "      <th>number</th>\n",
       "      <th>activity</th>\n",
       "      <th>position</th>\n",
       "      <th>location.1</th>\n",
       "    </tr>\n",
       "  </thead>\n",
       "  <tbody>\n",
       "    <tr>\n",
       "      <th>0</th>\n",
       "      <td>2024-01-16</td>\n",
       "      <td>10:10:30</td>\n",
       "      <td>0.0</td>\n",
       "      <td>A1</td>\n",
       "      <td>1</td>\n",
       "      <td>placed</td>\n",
       "      <td>inside</td>\n",
       "      <td>A1</td>\n",
       "    </tr>\n",
       "    <tr>\n",
       "      <th>1</th>\n",
       "      <td>2024-01-16</td>\n",
       "      <td>10:12:30</td>\n",
       "      <td>1.0</td>\n",
       "      <td>A2</td>\n",
       "      <td>1</td>\n",
       "      <td>picked</td>\n",
       "      <td>inside</td>\n",
       "      <td>A2</td>\n",
       "    </tr>\n",
       "    <tr>\n",
       "      <th>2</th>\n",
       "      <td>2024-01-16</td>\n",
       "      <td>10:28:30</td>\n",
       "      <td>1.0</td>\n",
       "      <td>A3</td>\n",
       "      <td>1</td>\n",
       "      <td>picked</td>\n",
       "      <td>Inside</td>\n",
       "      <td>A3</td>\n",
       "    </tr>\n",
       "    <tr>\n",
       "      <th>3</th>\n",
       "      <td>2024-01-16</td>\n",
       "      <td>10:38:20</td>\n",
       "      <td>0.0</td>\n",
       "      <td>A4</td>\n",
       "      <td>1</td>\n",
       "      <td>placed</td>\n",
       "      <td>Inside</td>\n",
       "      <td>A4</td>\n",
       "    </tr>\n",
       "    <tr>\n",
       "      <th>4</th>\n",
       "      <td>2024-01-16</td>\n",
       "      <td>10:45:20</td>\n",
       "      <td>1.0</td>\n",
       "      <td>A5</td>\n",
       "      <td>1</td>\n",
       "      <td>placed</td>\n",
       "      <td>inside</td>\n",
       "      <td>A5</td>\n",
       "    </tr>\n",
       "  </tbody>\n",
       "</table>\n",
       "</div>"
      ],
      "text/plain": [
       "        date      time  sensor location  number activity position location.1\n",
       "0 2024-01-16  10:10:30     0.0       A1       1   placed   inside         A1\n",
       "1 2024-01-16  10:12:30     1.0       A2       1   picked   inside         A2\n",
       "2 2024-01-16  10:28:30     1.0       A3       1   picked   Inside         A3\n",
       "3 2024-01-16  10:38:20     0.0       A4       1   placed   Inside         A4\n",
       "4 2024-01-16  10:45:20     1.0       A5       1   placed   inside         A5"
      ]
     },
     "execution_count": 3,
     "metadata": {},
     "output_type": "execute_result"
    }
   ],
   "source": [
    "df.head(5)"
   ]
  },
  {
   "cell_type": "code",
   "execution_count": 58,
   "id": "4ab25552",
   "metadata": {},
   "outputs": [
    {
     "name": "stdout",
     "output_type": "stream",
     "text": [
      "<class 'pandas.core.frame.DataFrame'>\n",
      "Int64Index: 174 entries, 0 to 174\n",
      "Data columns (total 7 columns):\n",
      " #   Column    Non-Null Count  Dtype         \n",
      "---  ------    --------------  -----         \n",
      " 0   date      174 non-null    datetime64[ns]\n",
      " 1   time      174 non-null    object        \n",
      " 2   sensor    174 non-null    float64       \n",
      " 3   location  174 non-null    object        \n",
      " 4   number    174 non-null    int64         \n",
      " 5   activity  174 non-null    object        \n",
      " 6   position  174 non-null    object        \n",
      "dtypes: datetime64[ns](1), float64(1), int64(1), object(4)\n",
      "memory usage: 10.9+ KB\n"
     ]
    }
   ],
   "source": [
    "df.info()"
   ]
  },
  {
   "cell_type": "code",
   "execution_count": 4,
   "id": "02593adb",
   "metadata": {},
   "outputs": [
    {
     "data": {
      "text/plain": [
       "date            3\n",
       "time          140\n",
       "sensor          2\n",
       "location       34\n",
       "number          2\n",
       "activity        2\n",
       "position        3\n",
       "location.1     34\n",
       "dtype: int64"
      ]
     },
     "execution_count": 4,
     "metadata": {},
     "output_type": "execute_result"
    }
   ],
   "source": [
    "df.nunique()"
   ]
  },
  {
   "cell_type": "code",
   "execution_count": 5,
   "id": "ac1d74ac",
   "metadata": {},
   "outputs": [],
   "source": [
    "df=df.drop('location.1', axis=1)"
   ]
  },
  {
   "cell_type": "code",
   "execution_count": 6,
   "id": "25dc582a",
   "metadata": {},
   "outputs": [],
   "source": [
    "df.dropna(inplace=True)"
   ]
  },
  {
   "cell_type": "code",
   "execution_count": 18,
   "id": "4dabdb56",
   "metadata": {},
   "outputs": [],
   "source": [
    "df['date'] = pd.to_datetime(df['date'])"
   ]
  },
  {
   "cell_type": "code",
   "execution_count": 20,
   "id": "f4eadbe3",
   "metadata": {},
   "outputs": [],
   "source": [
    "inside_activities = df[df['position'].str.lower() == 'inside']\n",
    "outside_activities = df[df['position'].str.lower() == 'outside']\n"
   ]
  },
  {
   "cell_type": "code",
   "execution_count": 26,
   "id": "f4ad1c41",
   "metadata": {},
   "outputs": [
    {
     "data": {
      "text/html": [
       "<div>\n",
       "<style scoped>\n",
       "    .dataframe tbody tr th:only-of-type {\n",
       "        vertical-align: middle;\n",
       "    }\n",
       "\n",
       "    .dataframe tbody tr th {\n",
       "        vertical-align: top;\n",
       "    }\n",
       "\n",
       "    .dataframe thead th {\n",
       "        text-align: right;\n",
       "    }\n",
       "</style>\n",
       "<table border=\"1\" class=\"dataframe\">\n",
       "  <thead>\n",
       "    <tr style=\"text-align: right;\">\n",
       "      <th></th>\n",
       "      <th>date</th>\n",
       "      <th>time</th>\n",
       "      <th>sensor</th>\n",
       "      <th>location</th>\n",
       "      <th>number</th>\n",
       "      <th>activity</th>\n",
       "      <th>position</th>\n",
       "    </tr>\n",
       "  </thead>\n",
       "  <tbody>\n",
       "    <tr>\n",
       "      <th>0</th>\n",
       "      <td>2024-01-16</td>\n",
       "      <td>10:10:30</td>\n",
       "      <td>0.0</td>\n",
       "      <td>A1</td>\n",
       "      <td>1</td>\n",
       "      <td>placed</td>\n",
       "      <td>inside</td>\n",
       "    </tr>\n",
       "    <tr>\n",
       "      <th>1</th>\n",
       "      <td>2024-01-16</td>\n",
       "      <td>10:12:30</td>\n",
       "      <td>1.0</td>\n",
       "      <td>A2</td>\n",
       "      <td>1</td>\n",
       "      <td>picked</td>\n",
       "      <td>inside</td>\n",
       "    </tr>\n",
       "    <tr>\n",
       "      <th>2</th>\n",
       "      <td>2024-01-16</td>\n",
       "      <td>10:28:30</td>\n",
       "      <td>1.0</td>\n",
       "      <td>A3</td>\n",
       "      <td>1</td>\n",
       "      <td>picked</td>\n",
       "      <td>Inside</td>\n",
       "    </tr>\n",
       "    <tr>\n",
       "      <th>3</th>\n",
       "      <td>2024-01-16</td>\n",
       "      <td>10:38:20</td>\n",
       "      <td>0.0</td>\n",
       "      <td>A4</td>\n",
       "      <td>1</td>\n",
       "      <td>placed</td>\n",
       "      <td>Inside</td>\n",
       "    </tr>\n",
       "    <tr>\n",
       "      <th>4</th>\n",
       "      <td>2024-01-16</td>\n",
       "      <td>10:45:20</td>\n",
       "      <td>1.0</td>\n",
       "      <td>A5</td>\n",
       "      <td>1</td>\n",
       "      <td>placed</td>\n",
       "      <td>inside</td>\n",
       "    </tr>\n",
       "    <tr>\n",
       "      <th>...</th>\n",
       "      <td>...</td>\n",
       "      <td>...</td>\n",
       "      <td>...</td>\n",
       "      <td>...</td>\n",
       "      <td>...</td>\n",
       "      <td>...</td>\n",
       "      <td>...</td>\n",
       "    </tr>\n",
       "    <tr>\n",
       "      <th>169</th>\n",
       "      <td>2024-01-18</td>\n",
       "      <td>12:35:30</td>\n",
       "      <td>1.0</td>\n",
       "      <td>A7</td>\n",
       "      <td>2</td>\n",
       "      <td>picked</td>\n",
       "      <td>inside</td>\n",
       "    </tr>\n",
       "    <tr>\n",
       "      <th>170</th>\n",
       "      <td>2024-01-18</td>\n",
       "      <td>12:45:05</td>\n",
       "      <td>0.0</td>\n",
       "      <td>A8</td>\n",
       "      <td>2</td>\n",
       "      <td>placed</td>\n",
       "      <td>inside</td>\n",
       "    </tr>\n",
       "    <tr>\n",
       "      <th>171</th>\n",
       "      <td>2024-01-18</td>\n",
       "      <td>12:53:10</td>\n",
       "      <td>1.0</td>\n",
       "      <td>A9</td>\n",
       "      <td>2</td>\n",
       "      <td>picked</td>\n",
       "      <td>inside</td>\n",
       "    </tr>\n",
       "    <tr>\n",
       "      <th>173</th>\n",
       "      <td>2024-01-18</td>\n",
       "      <td>13:10:20</td>\n",
       "      <td>1.0</td>\n",
       "      <td>A11</td>\n",
       "      <td>2</td>\n",
       "      <td>picked</td>\n",
       "      <td>Inside</td>\n",
       "    </tr>\n",
       "    <tr>\n",
       "      <th>174</th>\n",
       "      <td>2024-01-18</td>\n",
       "      <td>13:18:30</td>\n",
       "      <td>0.0</td>\n",
       "      <td>A12</td>\n",
       "      <td>2</td>\n",
       "      <td>placed</td>\n",
       "      <td>inside</td>\n",
       "    </tr>\n",
       "  </tbody>\n",
       "</table>\n",
       "<p>170 rows × 7 columns</p>\n",
       "</div>"
      ],
      "text/plain": [
       "          date      time  sensor location  number activity position\n",
       "0   2024-01-16  10:10:30     0.0       A1       1   placed   inside\n",
       "1   2024-01-16  10:12:30     1.0       A2       1   picked   inside\n",
       "2   2024-01-16  10:28:30     1.0       A3       1   picked   Inside\n",
       "3   2024-01-16  10:38:20     0.0       A4       1   placed   Inside\n",
       "4   2024-01-16  10:45:20     1.0       A5       1   placed   inside\n",
       "..         ...       ...     ...      ...     ...      ...      ...\n",
       "169 2024-01-18  12:35:30     1.0       A7       2   picked   inside\n",
       "170 2024-01-18  12:45:05     0.0       A8       2   placed   inside\n",
       "171 2024-01-18  12:53:10     1.0       A9       2   picked   inside\n",
       "173 2024-01-18  13:10:20     1.0      A11       2   picked   Inside\n",
       "174 2024-01-18  13:18:30     0.0      A12       2   placed   inside\n",
       "\n",
       "[170 rows x 7 columns]"
      ]
     },
     "execution_count": 26,
     "metadata": {},
     "output_type": "execute_result"
    }
   ],
   "source": [
    "inside_activities"
   ]
  },
  {
   "cell_type": "code",
   "execution_count": 59,
   "id": "acf7d38b",
   "metadata": {},
   "outputs": [],
   "source": [
    "df['time'] = df['time'].astype(str)"
   ]
  },
  {
   "cell_type": "code",
   "execution_count": 60,
   "id": "049b0cd3",
   "metadata": {},
   "outputs": [],
   "source": [
    "df['time'] = pd.to_datetime(df['time'])"
   ]
  },
  {
   "cell_type": "code",
   "execution_count": 61,
   "id": "20ad449c",
   "metadata": {},
   "outputs": [],
   "source": [
    "duration_df = df.groupby(['date', 'position'])['time'].apply(lambda x: (x.max() - x.min()).total_seconds() / 60).reset_index(name='total_duration')\n"
   ]
  },
  {
   "cell_type": "code",
   "execution_count": 62,
   "id": "d0693823",
   "metadata": {},
   "outputs": [
    {
     "data": {
      "text/html": [
       "<div>\n",
       "<style scoped>\n",
       "    .dataframe tbody tr th:only-of-type {\n",
       "        vertical-align: middle;\n",
       "    }\n",
       "\n",
       "    .dataframe tbody tr th {\n",
       "        vertical-align: top;\n",
       "    }\n",
       "\n",
       "    .dataframe thead th {\n",
       "        text-align: right;\n",
       "    }\n",
       "</style>\n",
       "<table border=\"1\" class=\"dataframe\">\n",
       "  <thead>\n",
       "    <tr style=\"text-align: right;\">\n",
       "      <th></th>\n",
       "      <th>date</th>\n",
       "      <th>position</th>\n",
       "      <th>total_duration</th>\n",
       "    </tr>\n",
       "  </thead>\n",
       "  <tbody>\n",
       "    <tr>\n",
       "      <th>0</th>\n",
       "      <td>2024-01-16</td>\n",
       "      <td>Inside</td>\n",
       "      <td>9.833333</td>\n",
       "    </tr>\n",
       "    <tr>\n",
       "      <th>1</th>\n",
       "      <td>2024-01-16</td>\n",
       "      <td>inside</td>\n",
       "      <td>717.000000</td>\n",
       "    </tr>\n",
       "    <tr>\n",
       "      <th>2</th>\n",
       "      <td>2024-01-17</td>\n",
       "      <td>inside</td>\n",
       "      <td>190.833333</td>\n",
       "    </tr>\n",
       "    <tr>\n",
       "      <th>3</th>\n",
       "      <td>2024-01-18</td>\n",
       "      <td>Inside</td>\n",
       "      <td>385.500000</td>\n",
       "    </tr>\n",
       "    <tr>\n",
       "      <th>4</th>\n",
       "      <td>2024-01-18</td>\n",
       "      <td>inside</td>\n",
       "      <td>559.833333</td>\n",
       "    </tr>\n",
       "    <tr>\n",
       "      <th>5</th>\n",
       "      <td>2024-01-18</td>\n",
       "      <td>outside</td>\n",
       "      <td>357.833333</td>\n",
       "    </tr>\n",
       "  </tbody>\n",
       "</table>\n",
       "</div>"
      ],
      "text/plain": [
       "        date position  total_duration\n",
       "0 2024-01-16   Inside        9.833333\n",
       "1 2024-01-16   inside      717.000000\n",
       "2 2024-01-17   inside      190.833333\n",
       "3 2024-01-18   Inside      385.500000\n",
       "4 2024-01-18   inside      559.833333\n",
       "5 2024-01-18  outside      357.833333"
      ]
     },
     "execution_count": 62,
     "metadata": {},
     "output_type": "execute_result"
    }
   ],
   "source": [
    "duration_df"
   ]
  },
  {
   "cell_type": "code",
   "execution_count": 63,
   "id": "04126294",
   "metadata": {},
   "outputs": [],
   "source": [
    "activity_counts = df.groupby(['date', 'activity']).size().reset_index(name='activity_count')\n"
   ]
  },
  {
   "cell_type": "code",
   "execution_count": 64,
   "id": "735856bf",
   "metadata": {},
   "outputs": [],
   "source": [
    "picking_placing_counts = activity_counts[activity_counts['activity'].isin(['picked', 'placed'])]\n"
   ]
  },
  {
   "cell_type": "code",
   "execution_count": 65,
   "id": "f2fdac02",
   "metadata": {},
   "outputs": [],
   "source": [
    "picking_placing_counts_pivot = picking_placing_counts.pivot(index='date', columns='activity', values='activity_count').fillna(0)\n"
   ]
  },
  {
   "cell_type": "code",
   "execution_count": 66,
   "id": "afc1f681",
   "metadata": {},
   "outputs": [],
   "source": [
    "picking_placing_counts_pivot.reset_index(inplace=True)\n"
   ]
  },
  {
   "cell_type": "code",
   "execution_count": 67,
   "id": "a9e23d3f",
   "metadata": {},
   "outputs": [],
   "source": [
    "picking_placing_counts_pivot.columns.name = None  # Remove column name\n",
    "picking_placing_counts_pivot.columns = ['date', 'placing_count', 'picking_count']\n"
   ]
  },
  {
   "cell_type": "code",
   "execution_count": 68,
   "id": "7faaf995",
   "metadata": {},
   "outputs": [
    {
     "name": "stdout",
     "output_type": "stream",
     "text": [
      "        date  placing_count  picking_count\n",
      "0 2024-01-16             40             40\n",
      "1 2024-01-17             10              9\n",
      "2 2024-01-18             37             38\n"
     ]
    }
   ],
   "source": [
    "print(picking_placing_counts_pivot)\n"
   ]
  },
  {
   "cell_type": "code",
   "execution_count": null,
   "id": "2ce2d328",
   "metadata": {},
   "outputs": [],
   "source": []
  }
 ],
 "metadata": {
  "kernelspec": {
   "display_name": "Python 3 (ipykernel)",
   "language": "python",
   "name": "python3"
  },
  "language_info": {
   "codemirror_mode": {
    "name": "ipython",
    "version": 3
   },
   "file_extension": ".py",
   "mimetype": "text/x-python",
   "name": "python",
   "nbconvert_exporter": "python",
   "pygments_lexer": "ipython3",
   "version": "3.9.13"
  }
 },
 "nbformat": 4,
 "nbformat_minor": 5
}
